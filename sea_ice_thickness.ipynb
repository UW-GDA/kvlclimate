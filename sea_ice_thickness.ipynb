{
 "cells": [
  {
   "cell_type": "markdown",
   "id": "04000771",
   "metadata": {},
   "source": [
    "# Sea ice thickness \n",
    "In this notebook, we'll show more detailed analysis and visualization of ICESat2 sea ice thickness measurements and the PIOMAS (Pan-Arctic Ice Ocean Modeling and Assimilation System) modelled sea ice thickness data. We'll also highlight interactive mapping using the hvplot and holoviews package.  "
   ]
  },
  {
   "cell_type": "code",
   "execution_count": null,
   "id": "b8f83299",
   "metadata": {},
   "outputs": [],
   "source": [
    "import xarray as xr # For working with gridded climate data \n",
    "import pandas as pd\n",
    "import numpy as np\n",
    "import itertools\n",
    "from utils.read_data_utils import read_book_data # Helper function for reading the data from the bucket\n",
    "from utils.plotting_utils import compute_gridcell_winter_means, staticArcticMaps, interactiveArcticMaps, interactive_winter_mean_maps, interactive_winter_comparison_lineplot # Plotting\n",
    "\n",
    "# Plotting dependencies\n",
    "import cartopy.crs as ccrs\n",
    "from textwrap import wrap\n",
    "import hvplot.xarray\n",
    "import holoviews as hv\n",
    "import matplotlib.pyplot as plt\n",
    "from matplotlib.axes import Axes\n",
    "from cartopy.mpl.geoaxes import GeoAxes\n",
    "GeoAxes._pcolormesh_patched = Axes.pcolormesh # Helps avoid some weird issues with the polar projection \n",
    "%config InlineBackend.figure_format = 'retina'\n",
    "import matplotlib as mpl\n",
    "mpl.rcParams['figure.dpi'] = 150 # Sets figure size in the notebook\n",
    "\n",
    "# Remove warnings to improve display\n",
    "import warnings \n",
    "warnings.filterwarnings('ignore') "
   ]
  },
  {
   "cell_type": "markdown",
   "id": "dfa940ae",
   "metadata": {},
   "source": [
    "# Read in the data \n",
    "We've included a function in the `read_data_utils` module that reads in the book dataset from the public google storage bucketas an xarray.Dataset object."
   ]
  },
  {
   "cell_type": "code",
   "execution_count": null,
   "id": "c9ede834",
   "metadata": {},
   "outputs": [],
   "source": [
    "print(read_book_data.__doc__) # Print docstring"
   ]
  },
  {
   "cell_type": "code",
   "execution_count": null,
   "id": "d71db494",
   "metadata": {},
   "outputs": [],
   "source": [
    "book_ds = read_book_data() # Read/download the data \n",
    "print(book_ds) # Show dataset"
   ]
  },
  {
   "cell_type": "markdown",
   "id": "8457791f",
   "metadata": {},
   "source": [
    "## Restrict data to a given region\n",
    "We use a region mask of the Arctic to allow us to select for regions of interest, and ignore other regions. This mask is included as a data variable in the ICESat-2 v2 data, and is provided courtesy W. Meier & S. Stewart, National Snow and Ice Data Center (NSIDC). In our analysis, we restrict the data to the Inner Arctic domain, defined as the combined area of the Central Arctic, Beaufort Sea, Chukchi Sea, E Siberian Sea, Laptev Sea and Kara Sea. \n",
    "\n",
    "![Arctic region mask](figs/region_mask.png \"Inner Arctic region mask\")\n",
    "\n",
    "CA: Central Arctic, BS: Beaufort Sea, CS: Chukchi Sea, ESS: East Siberian Sea, LS: Laptev Sea, KS: Kara Sea, BaS: Barents Sea, EG: East Greenland Sea, GBB: Gulf of Bothnia, Baltic Sea, BB: Baffin Bay & Davis Strait, BeS: Bering Sea, SO: Sea of Okhotsk, GA: Gulf of Alaska. "
   ]
  },
  {
   "cell_type": "markdown",
   "id": "d4097df1",
   "metadata": {},
   "source": [
    "Here, we'll restrict the data to the Inner Arctic by selected the key values [1,2,3,4,5,6], corresponding to the six regions that compose the Inner Arctic. "
   ]
  },
  {
   "cell_type": "code",
   "execution_count": null,
   "id": "9e40d5b5",
   "metadata": {},
   "outputs": [],
   "source": [
    "innerArctic = [1,2,3,4,5,6] #Inner Arctic\n",
    "book_ds_all = book_ds.copy()\n",
    "book_ds = book_ds.where(book_ds.region_mask.isin(innerArctic))"
   ]
  },
  {
   "cell_type": "markdown",
   "id": "2455ccba",
   "metadata": {},
   "source": [
    "On the map below, you can see how the data we've called the function on has been cut to show only gridcells in the Inner Arctic! "
   ]
  },
  {
   "cell_type": "code",
   "execution_count": null,
   "id": "ec3d156f",
   "metadata": {
    "tags": [
     "hide-input"
    ]
   },
   "outputs": [],
   "source": [
    "date = \"Feb 2020\"\n",
    "\n",
    "fig, axes = plt.subplots(1, 2, figsize=(5,5), subplot_kw={'projection':ccrs.NorthPolarStereo(central_longitude=-45)})\n",
    "im1 = book_ds_all[\"ice_thickness_int\"].sel(time=date)[0].plot.pcolormesh(ax=axes[0], x='longitude', y='latitude', vmin=0, vmax=4, extend='both', transform=ccrs.PlateCarree(), add_colorbar=False)\n",
    "im2 = book_ds[\"ice_thickness_int\"].sel(time=date)[0].plot.pcolormesh(ax=axes[1], x='longitude', y='latitude', vmin=0, vmax=4, extend='both', transform=ccrs.PlateCarree(), add_colorbar=False)\n",
    "plt.colorbar(im1, cax=fig.add_axes([0.93, 0.25, 0.025, 0.5]), extend='both', label=\"sea ice thickness (m)\")\n",
    "\n",
    "axes[0].set_title(\"\\n\".join(wrap(\"Sea ice thickness before restricting, \"+date, 32)), fontsize=8)\n",
    "axes[1].set_title(\"\\n\".join(wrap(\"Inner Arctic sea ice thickness, \"+date, 32)), fontsize=8)\n",
    "axes[0].coastlines()\n",
    "axes[1].coastlines()\n",
    "\n",
    "plt.show()"
   ]
  },
  {
   "cell_type": "markdown",
   "id": "b3776462",
   "metadata": {},
   "source": [
    "## Set years over which to perform the analysis \n",
    "Setting `years = [2018,2019,2020]` indicates that you want to perform the analyses in the notebook for three winter season: winter 2018-19, 2019-20, and 2020-21"
   ]
  },
  {
   "cell_type": "code",
   "execution_count": null,
   "id": "170dd8a3",
   "metadata": {},
   "outputs": [],
   "source": [
    "years = [2018,2019,2020]"
   ]
  },
  {
   "cell_type": "markdown",
   "id": "a356911e",
   "metadata": {},
   "source": [
    "# ICESat-2 interpolated sea ice thickness maps\n",
    "Here, we'll overlay sea ice thickness data over a map of the Arctic. To generate the map, we'll use interactive plotting functions based off the `hvplot` python package. To see more information on the functions used, click on the plus buttons to see the function documentation, or go into the `plotting_utils` module to see the code. "
   ]
  },
  {
   "cell_type": "markdown",
   "id": "2726b4fa",
   "metadata": {},
   "source": [
    "## Monthly data \n",
    "Use the slider to scroll through each month with available data"
   ]
  },
  {
   "cell_type": "code",
   "execution_count": null,
   "id": "d8e2f56a",
   "metadata": {
    "tags": [
     "hide-output"
    ]
   },
   "outputs": [],
   "source": [
    "print(interactiveArcticMaps.__doc__) # Print docstring "
   ]
  },
  {
   "cell_type": "code",
   "execution_count": null,
   "id": "9228f991",
   "metadata": {},
   "outputs": [],
   "source": [
    "pl = interactiveArcticMaps(book_ds[\"ice_thickness_int\"], frame_width=500, vmin=0, vmax=4)\n",
    "display(pl)"
   ]
  },
  {
   "cell_type": "markdown",
   "id": "db04c421",
   "metadata": {},
   "source": [
    "## Gridcell winter means \n",
    "The plotting function below builds on the plotting function used above, `interactiveArcticMaps`, to display gridcell winter mean ice thickness. You can toggle through the winter seasons using the dropdown on the right of the map."
   ]
  },
  {
   "cell_type": "code",
   "execution_count": null,
   "id": "2db37aa1",
   "metadata": {
    "tags": [
     "hide-output"
    ]
   },
   "outputs": [],
   "source": [
    "print(interactive_winter_mean_maps.__doc__) # Print docstring"
   ]
  },
  {
   "cell_type": "code",
   "execution_count": null,
   "id": "11ea45a8",
   "metadata": {},
   "outputs": [],
   "source": [
    "pl = interactive_winter_mean_maps(book_ds[\"ice_thickness_int\"], \n",
    "                                  years=years,  \n",
    "                                  slider=True, \n",
    "                                  frame_width=500, \n",
    "                                  title=\"ICESat-2 sea ice thickness winter means\")\n",
    "display(pl)"
   ]
  },
  {
   "cell_type": "markdown",
   "id": "74697642",
   "metadata": {},
   "source": [
    "# Mean monthly sea ice thickness \n",
    "Compare the monthly means across different winter seasons for the uninterpolated ICESat-2 sea ice thickness data"
   ]
  },
  {
   "cell_type": "code",
   "execution_count": null,
   "id": "3bdf3b39",
   "metadata": {
    "tags": [
     "hide-output"
    ]
   },
   "outputs": [],
   "source": [
    "print(interactive_winter_comparison_lineplot.__doc__)"
   ]
  },
  {
   "cell_type": "code",
   "execution_count": null,
   "id": "941de675",
   "metadata": {},
   "outputs": [],
   "source": [
    "pl = interactive_winter_comparison_lineplot(book_ds.ice_thickness, \n",
    "                            years=[2018,2019,2020],\n",
    "                            title=\"ICESat-2 sea ice thickness winter comparison\", \n",
    "                            frame_width=500, frame_height=250)\n",
    "display(pl)"
   ]
  }
 ],
 "metadata": {
  "celltoolbar": "Tags",
  "kernelspec": {
   "display_name": "Python 3 (ipykernel)",
   "language": "python",
   "name": "python3"
  },
  "language_info": {
   "codemirror_mode": {
    "name": "ipython",
    "version": 3
   },
   "file_extension": ".py",
   "mimetype": "text/x-python",
   "name": "python",
   "nbconvert_exporter": "python",
   "pygments_lexer": "ipython3",
   "version": "3.8.12"
  }
 },
 "nbformat": 4,
 "nbformat_minor": 5
}
