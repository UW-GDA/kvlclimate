{
 "cells": [
  {
   "cell_type": "markdown",
   "id": "4627f3d0",
   "metadata": {},
   "source": [
    "#  ATLAS/ICESat-2 Monthly Gridded Sea Ice Freeboard\n",
    "*Introduce dataset here*"
   ]
  },
  {
   "cell_type": "markdown",
   "id": "66dab7d0",
   "metadata": {},
   "source": [
    "# Import notebook dependencies"
   ]
  },
  {
   "cell_type": "code",
   "execution_count": 1,
   "id": "b237e914",
   "metadata": {},
   "outputs": [],
   "source": [
    "import os\n",
    "import xarray as xr\n",
    "import numpy as np\n",
    "import pandas as pd\n",
    "import utils # See utils module in github repository\n",
    "import warnings # Remove warnings to improve display\n",
    "warnings.filterwarnings('ignore')\n",
    "\n",
    "# Plotting\n",
    "import cartopy.crs as ccrs\n",
    "import cartopy.feature as cfeature\n",
    "from matplotlib.axes import Axes\n",
    "from cartopy.mpl.geoaxes import GeoAxes\n",
    "from textwrap import wrap\n",
    "import matplotlib as mpl\n",
    "import matplotlib.pyplot as plt\n",
    "\n",
    "GeoAxes._pcolormesh_patched = Axes.pcolormesh\n",
    "%config InlineBackend.figure_format = 'retina'\n",
    "mpl.rcParams['figure.dpi'] = 100"
   ]
  },
  {
   "cell_type": "markdown",
   "id": "82f21db0",
   "metadata": {},
   "source": [
    "# Set desired date range \n",
    "Our analysis looks at winter data, so we'll only load data for the Northern Hemisphere's winter season (Nov-Apr)"
   ]
  },
  {
   "cell_type": "code",
   "execution_count": 2,
   "id": "94edf94e",
   "metadata": {},
   "outputs": [
    {
     "name": "stdout",
     "output_type": "stream",
     "text": [
      "DatetimeIndex(['2018-11-01', '2018-12-01', '2019-01-01', '2019-02-01',\n",
      "               '2019-03-01', '2019-04-01', '2019-11-01', '2019-12-01',\n",
      "               '2020-01-01', '2020-02-01', '2020-03-01', '2020-04-01'],\n",
      "              dtype='datetime64[ns]', freq=None)\n"
     ]
    }
   ],
   "source": [
    "start_year = \"2018\"\n",
    "end_year = \"2020\"\n",
    "winter_months = utils.getWinterDateRange(start_year, end_year)\n",
    "print(winter_months)"
   ]
  },
  {
   "cell_type": "markdown",
   "id": "0efb394e",
   "metadata": {},
   "source": [
    "# Read data"
   ]
  },
  {
   "cell_type": "code",
   "execution_count": 3,
   "id": "98eadcb8",
   "metadata": {},
   "outputs": [
    {
     "name": "stdout",
     "output_type": "stream",
     "text": [
      "<xarray.Dataset>\n",
      "Dimensions:            (time: 12, x: 304, y: 448)\n",
      "Coordinates:\n",
      "    longitude          (y, x) float32 dask.array<chunksize=(448, 304), meta=np.ndarray>\n",
      "    latitude           (y, x) float32 dask.array<chunksize=(448, 304), meta=np.ndarray>\n",
      "    xgrid              (y, x) float32 dask.array<chunksize=(448, 304), meta=np.ndarray>\n",
      "    ygrid              (y, x) float32 dask.array<chunksize=(448, 304), meta=np.ndarray>\n",
      "  * time               (time) datetime64[ns] 2018-11-01 ... 2020-04-01\n",
      "Dimensions without coordinates: x, y\n",
      "Data variables:\n",
      "    projection         (time) int32 -2147483647 -2147483647 ... -2147483647\n",
      "    ice_thickness      (time, y, x) float32 dask.array<chunksize=(1, 448, 304), meta=np.ndarray>\n",
      "    ice_thickness_unc  (time, y, x) float32 dask.array<chunksize=(1, 448, 304), meta=np.ndarray>\n",
      "    num_segments       (time, y, x) float32 dask.array<chunksize=(1, 448, 304), meta=np.ndarray>\n",
      "    mean_day_of_month  (time, y, x) float32 dask.array<chunksize=(1, 448, 304), meta=np.ndarray>\n",
      "    snow_depth         (time, y, x) float32 dask.array<chunksize=(1, 448, 304), meta=np.ndarray>\n",
      "    snow_density       (time, y, x) float32 dask.array<chunksize=(1, 448, 304), meta=np.ndarray>\n",
      "    freeboard          (time, y, x) float32 dask.array<chunksize=(1, 448, 304), meta=np.ndarray>\n",
      "    ice_type           (time, y, x) float32 dask.array<chunksize=(1, 448, 304), meta=np.ndarray>\n",
      "    ice_density        (time, y, x) float32 dask.array<chunksize=(1, 448, 304), meta=np.ndarray>\n",
      "Attributes:\n",
      "    contact:      Alek Petty (alek.a.petty@nasa.gov)\n",
      "    description:  Gridded Feb 2020 Arctic sea ice thickness and ancillary dat...\n",
      "    reference:    Data doi: 10.5067/CV6JEXEE31HF. Original methodology descri...\n",
      "    history:      Created 22/04/21\n"
     ]
    }
   ],
   "source": [
    "is2_ds = utils.read_is2_data() # Read in data\n",
    "is2_ds = is2_ds.sel(time = winter_months) # Get winter months\n",
    "print(is2_ds)"
   ]
  },
  {
   "cell_type": "markdown",
   "id": "abd4372d",
   "metadata": {},
   "source": [
    "# Set interpolation preferences  \n",
    "The dataset included uninterpolated data, or we can interpolate the data using a simple nearest neighbor interpolation function. Because ICESat-2 doesn't provide full monthly coverage, interpolating fills missing grid cells with a best guess based on surrounding data. This helps avoid sampling biases when performing time series analyses, with the cavaet that this interpolation method is subjective. <br><br>\n",
    "In order to definte the interpolation bounds (so that we don't try and interpolate over land, or other areas where there wouldn't be sea ice!), we use the [NOAA/NSIDC Climate Data Record of Passive Microwave Sea Ice Concentration](https://nsidc.org/data/g02202) dataset to infer the location of the sea ice. By setting interpolation=True, the code calls an interpolation function that is defined in the utils module."
   ]
  },
  {
   "cell_type": "code",
   "execution_count": 4,
   "id": "33a88f58",
   "metadata": {},
   "outputs": [
    {
     "ename": "NameError",
     "evalue": "name 'read_book_data' is not defined",
     "output_type": "error",
     "traceback": [
      "\u001b[0;31m---------------------------------------------------------------------------\u001b[0m",
      "\u001b[0;31mNameError\u001b[0m                                 Traceback (most recent call last)",
      "\u001b[0;32m<ipython-input-4-09d4aa3502f4>\u001b[0m in \u001b[0;36m<module>\u001b[0;34m\u001b[0m\n\u001b[1;32m      2\u001b[0m \u001b[0;34m\u001b[0m\u001b[0m\n\u001b[1;32m      3\u001b[0m \u001b[0;32mif\u001b[0m \u001b[0;34m(\u001b[0m\u001b[0minterpolate\u001b[0m \u001b[0;34m==\u001b[0m \u001b[0;32mTrue\u001b[0m\u001b[0;34m)\u001b[0m\u001b[0;34m:\u001b[0m\u001b[0;34m\u001b[0m\u001b[0;34m\u001b[0m\u001b[0m\n\u001b[0;32m----> 4\u001b[0;31m     \u001b[0mcdr_da\u001b[0m \u001b[0;34m=\u001b[0m \u001b[0mread_book_data\u001b[0m\u001b[0;34m(\u001b[0m\u001b[0;34m)\u001b[0m\u001b[0;34m[\u001b[0m\u001b[0;34m\"seaice_conc_monthly_cdr\"\u001b[0m\u001b[0;34m]\u001b[0m \u001b[0;31m# Get CDR data\u001b[0m\u001b[0;34m\u001b[0m\u001b[0;34m\u001b[0m\u001b[0m\n\u001b[0m\u001b[1;32m      5\u001b[0m     \u001b[0mcdr_da\u001b[0m \u001b[0;34m=\u001b[0m \u001b[0mcdr_da\u001b[0m\u001b[0;34m.\u001b[0m\u001b[0msel\u001b[0m\u001b[0;34m(\u001b[0m\u001b[0mtime\u001b[0m \u001b[0;34m=\u001b[0m \u001b[0mwinter_months\u001b[0m\u001b[0;34m)\u001b[0m \u001b[0;31m# Get winter months\u001b[0m\u001b[0;34m\u001b[0m\u001b[0;34m\u001b[0m\u001b[0m\n\u001b[1;32m      6\u001b[0m     \u001b[0mis2_ds\u001b[0m \u001b[0;34m=\u001b[0m \u001b[0mutils\u001b[0m\u001b[0;34m.\u001b[0m\u001b[0mis2_interp2d\u001b[0m\u001b[0;34m(\u001b[0m\u001b[0mis2_ds\u001b[0m\u001b[0;34m,\u001b[0m \u001b[0mcdr_da\u001b[0m\u001b[0;34m,\u001b[0m \u001b[0mmethod\u001b[0m\u001b[0;34m=\u001b[0m\u001b[0;34m'nearest'\u001b[0m\u001b[0;34m,\u001b[0m \u001b[0minterp_var\u001b[0m\u001b[0;34m=\u001b[0m\u001b[0;34m'all'\u001b[0m\u001b[0;34m)\u001b[0m\u001b[0;34m\u001b[0m\u001b[0;34m\u001b[0m\u001b[0m\n",
      "\u001b[0;31mNameError\u001b[0m: name 'read_book_data' is not defined"
     ]
    }
   ],
   "source": [
    "interpolate = True \n",
    "\n",
    "if (interpolate == True): \n",
    "    cdr_da = read_book_data()[\"seaice_conc_monthly_cdr\"] # Get CDR data\n",
    "    cdr_da = cdr_da.sel(time = winter_months) # Get winter months\n",
    "    is2_ds = utils.is2_interp2d(is2_ds, cdr_da, method='nearest', interp_var='all')"
   ]
  },
  {
   "cell_type": "markdown",
   "id": "c130533b",
   "metadata": {},
   "source": [
    "# Plot mean winter ice thickness\n",
    "Using the cartopy mapping package for python, we overlay mean ice thickness for each winter season on a basemap of the Arctic."
   ]
  },
  {
   "cell_type": "code",
   "execution_count": null,
   "id": "ff5128ea",
   "metadata": {},
   "outputs": [],
   "source": [
    "def plotArcticOneMonth(da, minval=None, maxval=None, title=None, cmap='viridis', show_mean=True): \n",
    "    \"\"\"Plots map of the arctic on North Pole Stereo projection with one month of data overlayed, along with the sea ice edge for each month.\n",
    "    Cartopy has a bug and cannot produce a contour plot on a rotated grid. Here we use a workaround from stackexchange: https://stackoverflow.com/questions/55062406/cartopy-fails-to-correctly-contour-data-on-rotated-grid\n",
    "   \n",
    "    Args:\n",
    "        da (xr DataArray): data to plot\n",
    "        minval, maxval (int, optional): minimum and maximum values for the data variable (default to xarray default)\n",
    "        cmap (str, optional): color map (default to viridis)\n",
    "        title (str, optional): title of subplots (default to empty string)\n",
    "        show_mean (bool, optional): add mean value to plot (default to True)\n",
    "        \n",
    "    Returns:\n",
    "        Figure displayed in notebook \n",
    "    \n",
    "    \"\"\"\n",
    "    # Plot the data\n",
    "    fig = plt.figure(figsize=(6,6))\n",
    "    ax = plt.axes(projection=ccrs.NorthPolarStereo(central_longitude=-45))\n",
    "    da.plot(x='longitude', y='latitude', vmin=minval, vmax=maxval, extend='both', \n",
    "            ax=ax, add_colorbar=True, transform=ccrs.PlateCarree(), zorder=2, cmap=cmap, \n",
    "            cbar_kwargs = {'orientation': 'horizontal', 'shrink': 0.75, 'pad': 0.025})\n",
    "    \n",
    "    # Add features to the map\n",
    "    ax.coastlines(linewidth=0.15, color = 'black', zorder = 10) # Coastlines\n",
    "    ax.add_feature(cfeature.LAND, color ='0.95', zorder = 5)    # Land\n",
    "    ax.add_feature(cfeature.LAKES, color = 'grey', zorder = 5)  # Lakes\n",
    "    ax.gridlines(draw_labels=False, linewidth=0.25, color='gray', alpha=0.7, linestyle='--', zorder=6) # Gridlines\n",
    "    ax.set_extent([-179, 179, 50, 90], crs=ccrs.PlateCarree()) # Set extent to zoom in on Arctic\n",
    "    \n",
    "    if title is not None: # Set title\n",
    "        ax.set_title(\"\\n\".join(wrap(title, 40)), fontsize=13, y=1, fontweight='medium')\n",
    "    \n",
    "    if show_mean: # Compute and show mean value \n",
    "        mean_val = round(da.mean().values.item(),2)\n",
    "        ax.text(x = 0.68, y = 0.97, s = \"mean val: \" + str(mean_val), zorder=20, horizontalalignment='left', verticalalignment='top', fontsize=10, transform=ax.transAxes, bbox={'facecolor':'white','edgecolor':'lightgrey','boxstyle':'round'})\n",
    "    \n",
    "    plt.show()"
   ]
  },
  {
   "cell_type": "code",
   "execution_count": null,
   "id": "d3e6e13c",
   "metadata": {},
   "outputs": [],
   "source": [
    "thickness = is2_ds[\"ice_thickness\"]"
   ]
  },
  {
   "cell_type": "markdown",
   "id": "afc1a65f",
   "metadata": {},
   "source": [
    "## Winter 2018-19"
   ]
  },
  {
   "cell_type": "code",
   "execution_count": null,
   "id": "1c70600f",
   "metadata": {},
   "outputs": [],
   "source": [
    "# Compute mean thickness for winter 1 (Nov 2018 - Apr 2019)\n",
    "thickness_av_winter1 = thickness.sel(time=slice(\"Nov 2018\", \"Apr 2019\")).mean(dim = [\"time\"])\n",
    "thickness_av_winter1 = thickness_av_winter1.assign_attrs(thickness.attrs)\n",
    "\n",
    "# Plot\n",
    "plotArcticOneMonth(thickness_av_winter1, minval=0, maxval=3, title=\"Winter 2018-19 mean sea ice thickness\")"
   ]
  },
  {
   "cell_type": "markdown",
   "id": "dcbf5a47",
   "metadata": {},
   "source": [
    "## Winter 2019-20"
   ]
  },
  {
   "cell_type": "code",
   "execution_count": null,
   "id": "33006952",
   "metadata": {},
   "outputs": [],
   "source": [
    "# Compute mean thickness for winter 2 (Nov 2019 - Apr 2020)\n",
    "thickness_av_winter2 = thickness.sel(time=slice(\"Nov 2019\", \"Apr 2020\")).mean(dim = [\"time\"])\n",
    "thickness_av_winter2 = thickness_av_winter2.assign_attrs(thickness.attrs)\n",
    "\n",
    "# Plot\n",
    "plotArcticOneMonth(thickness_av_winter2, minval=0, maxval=3, title=\"Winter 2018-19 mean sea ice thickness\")"
   ]
  }
 ],
 "metadata": {
  "celltoolbar": "Tags",
  "kernelspec": {
   "display_name": "Python 3",
   "language": "python",
   "name": "python3"
  },
  "language_info": {
   "codemirror_mode": {
    "name": "ipython",
    "version": 3
   },
   "file_extension": ".py",
   "mimetype": "text/x-python",
   "name": "python",
   "nbconvert_exporter": "python",
   "pygments_lexer": "ipython3",
   "version": "3.8.10"
  }
 },
 "nbformat": 4,
 "nbformat_minor": 5
}
