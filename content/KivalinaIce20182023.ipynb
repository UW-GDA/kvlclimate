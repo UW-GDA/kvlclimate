{
 "cells": [
  {
   "cell_type": "markdown",
   "id": "e1f75733-a2a5-4112-9979-de58a0329207",
   "metadata": {},
   "source": [
    "# Sea Ice Thickness Variability Near Kivalina, Alaska (updates through to April 2023)\n",
    "\n",
    "**Summary**: In this notebook, I am adapting code from Alek Petty, using the updated the monthly gridded winter Arctic sea ice thickness dataset IS2SITMOGR4, which is an ICESat-2 Sea Ice Data product for the circumpolar Arctic from 2018 - 2023. This newly available 2023 data allows us to assess finer resolution changes in sea ice thickness near coastal Arctic commuinities for the first time via satellite data. \n",
    "\n",
    "This notebook aims to investigate the following question(s): **1) Has sea ice thickness around critical marine hunting zones in Kivalina, AK changed in recent years?** and, **2) How and where is sea ice thickness changing near Kivalina, AK?**\n",
    "\n",
    "These outputs will support my master's thesis research, and will aim to validate and support on-the-ground experiences felt by marine subsistence hunters in Kivalina, AK. These visualizations will be presented to hunters in Kivalina and discussions regarding their accuracy and alignment with on-the-ground experiences will be shared. \n",
    "\n",
    "**Authors**: Ana Stringer\n",
    "\n",
    "**Version history**: Version 1 (1/28/2023)\n",
    "**Edits by Ana Stringer**: Version 2 (3/18/2024) "
   ]
  },
  {
   "cell_type": "markdown",
   "id": "6be3c5a0-db98-42f5-85e1-1cd3929a970a",
   "metadata": {},
   "source": [
    "### Import Notebook Dependencies"
   ]
  },
  {
   "cell_type": "code",
   "execution_count": 1,
   "id": "40bf8832-7deb-45ab-8dc3-c81b1635ffb1",
   "metadata": {},
   "outputs": [
    {
     "name": "stdout",
     "output_type": "stream",
     "text": [
      "/Users/anastringer_1/miniconda3/bin/python\n"
     ]
    }
   ],
   "source": [
    "import sys\n",
    "print(sys.executable)\n",
    "\n"
   ]
  },
  {
   "cell_type": "code",
   "execution_count": 2,
   "id": "5abdedfb-9700-4572-bda9-b3adcd51b7a8",
   "metadata": {},
   "outputs": [
    {
     "ename": "ModuleNotFoundError",
     "evalue": "No module named 'xarray'",
     "output_type": "error",
     "traceback": [
      "\u001b[0;31m---------------------------------------------------------------------------\u001b[0m",
      "\u001b[0;31mModuleNotFoundError\u001b[0m                       Traceback (most recent call last)",
      "Cell \u001b[0;32mIn[2], line 2\u001b[0m\n\u001b[1;32m      1\u001b[0m \u001b[38;5;66;03m# For working with gridded climate data \u001b[39;00m\n\u001b[0;32m----> 2\u001b[0m \u001b[38;5;28;01mimport\u001b[39;00m \u001b[38;5;21;01mxarray\u001b[39;00m \u001b[38;5;28;01mas\u001b[39;00m \u001b[38;5;21;01mxr\u001b[39;00m \n\u001b[1;32m      3\u001b[0m \u001b[38;5;66;03m# Helper function for reading the data from the bucket\u001b[39;00m\n\u001b[1;32m      4\u001b[0m \u001b[38;5;28;01mfrom\u001b[39;00m \u001b[38;5;21;01mutils\u001b[39;00m\u001b[38;5;21;01m.\u001b[39;00m\u001b[38;5;21;01mread_data_utils\u001b[39;00m \u001b[38;5;28;01mimport\u001b[39;00m read_IS2SITMOGR4 \n",
      "\u001b[0;31mModuleNotFoundError\u001b[0m: No module named 'xarray'"
     ]
    }
   ],
   "source": [
    "# For working with gridded climate data \n",
    "import xarray as xr \n",
    "# Helper function for reading the data from the bucket\n",
    "from utils.read_data_utils import read_IS2SITMOGR4 \n",
    "from utils.plotting_utils import static_winter_comparison_lineplot, staticArcticMaps, staticArcticMaps_overlayDrifts, interactiveArcticMaps, compute_gridcell_winter_means, interactive_winter_comparison_lineplot # Plotting utils \n",
    "import numpy as np\n",
    "# Plotting dependencies\n",
    "#%config InlineBackend.figure_format = 'retina'\n",
    "import matplotlib as mpl\n",
    "# Sets figure size in the notebook\n",
    "mpl.rcParams['figure.dpi'] = 150 \n",
    "\n",
    "# Remove warnings to improve display\n",
    "import warnings \n",
    "warnings.filterwarnings('ignore') \n",
    "\n"
   ]
  },
  {
   "cell_type": "code",
   "execution_count": null,
   "id": "68e394c2-00cd-42de-bafa-fc76a4ebe9c0",
   "metadata": {},
   "outputs": [
    {
     "name": "stdout",
     "output_type": "stream",
     "text": [
      "Channels:\n",
      " - conda-forge\n",
      " - defaults\n",
      "Platform: osx-arm64\n",
      "Collecting package metadata (repodata.json): done\n",
      "Solving environment: done\n",
      "\n",
      "## Package Plan ##\n",
      "\n",
      "  environment location: /Users/anastringer_1/miniconda3\n",
      "\n",
      "  added / updated specs:\n",
      "    - ipywidgets\n",
      "\n",
      "\n",
      "The following packages will be downloaded:\n",
      "\n",
      "    package                    |            build\n",
      "    ---------------------------|-----------------\n",
      "    ca-certificates-2024.2.2   |       hf0a4a13_0         152 KB  conda-forge\n",
      "    certifi-2024.2.2           |     pyhd8ed1ab_0         157 KB  conda-forge\n",
      "    conda-24.1.2               |  py311h267d04e_0         1.2 MB  conda-forge\n",
      "    ipywidgets-8.1.2           |     pyhd8ed1ab_0         111 KB  conda-forge\n",
      "    jupyterlab_widgets-3.0.10  |     pyhd8ed1ab_0         183 KB  conda-forge\n",
      "    widgetsnbextension-4.0.10  |     pyhd8ed1ab_0         866 KB  conda-forge\n",
      "    ------------------------------------------------------------\n",
      "                                           Total:         2.6 MB\n",
      "\n",
      "The following packages will be UPDATED:\n",
      "\n",
      "  ca-certificates                     2023.11.17-hf0a4a13_0 --> 2024.2.2-hf0a4a13_0 \n",
      "  certifi                           2023.11.17-pyhd8ed1ab_0 --> 2024.2.2-pyhd8ed1ab_0 \n",
      "  conda                             23.11.0-py311h267d04e_1 --> 24.1.2-py311h267d04e_0 \n",
      "  ipywidgets                             8.1.1-pyhd8ed1ab_0 --> 8.1.2-pyhd8ed1ab_0 \n",
      "  jupyterlab_widgets                     3.0.9-pyhd8ed1ab_0 --> 3.0.10-pyhd8ed1ab_0 \n",
      "  widgetsnbextension                     4.0.9-pyhd8ed1ab_0 --> 4.0.10-pyhd8ed1ab_0 \n",
      "\n",
      "\n",
      "Proceed ([y]/n)? "
     ]
    }
   ],
   "source": [
    "#!conda install zarr\n",
    "!conda install ipywidgets "
   ]
  },
  {
   "cell_type": "markdown",
   "id": "d34b9a6e-8bac-44c0-8ff6-3fd6cb4f4b01",
   "metadata": {},
   "source": [
    "### Read in the Version 3 monthly gridded winter Arctic sea ice data\n",
    "As before, there are multiple ways of accessing this dataset. The 'official' method is to download the latest data direct from the NSIDC at the following link: https://nsidc.org/data/is2sitmogr4/. \n",
    "\n",
    "However, to simplify access and avoid the need to even go through the NSIDC I have uploaded the raw netcdfs and an aggregated zarr dataset to an AWS S3 bucket. The benefit of the zarr approach is that you can read the data in on the fly which negates the need to store a local copy of the data. Performance is improved when doing this analysis on the same AWS platform. \n",
    "\n",
    "The new Version 3 (V3) data has been re-processed since the start of the mission (November 2018 to April 2023 currently available) so I fully recommend downloading the entire dataset afresh. Note that in V3 the xgrid/ygrid variables got renamed to x/y. New variables have also been included in V3 which are discussed below"
   ]
  },
  {
   "cell_type": "code",
   "execution_count": null,
   "id": "4710a334-2720-4a8e-ba29-cf193d1ca50b",
   "metadata": {},
   "outputs": [],
   "source": [
    "IS2SITMOGR4_v3 = read_IS2SITMOGR4(data_type='zarr-s3', \n",
    "                                   local_data_path='./data/IS2SITMOGR4/', version='V3', download=False,\n",
    "                                   persist=True) \n",
    "\n",
    "IS2SITMOGR4_v3"
   ]
  },
  {
   "cell_type": "code",
   "execution_count": null,
   "id": "6bc6113f-3930-43e9-9497-213427b1e615",
   "metadata": {},
   "outputs": [],
   "source": [
    "IS2SITMOGR4_v3 = read_IS2SITMOGR4(data_type='zarr-s3', \n",
    "                                   local_data_path='./data/IS2SITMOGR4/', version='V3', download=False,\n",
    "                                   persist=True) \n",
    "\n",
    "IS2SITMOGR4_v3"
   ]
  },
  {
   "cell_type": "markdown",
   "id": "17c5c9b8-2c0b-4434-89f2-4c09bdb95603",
   "metadata": {},
   "source": [
    "making a quick plot to make sure that data read in correctly "
   ]
  },
  {
   "cell_type": "code",
   "execution_count": null,
   "id": "7e9decec-8add-4d9b-a607-6fec8412608c",
   "metadata": {},
   "outputs": [],
   "source": [
    "# Years over which to perform analysis (start year of that winter period)\n",
    "years = [x for x in range(2018, 2022+1)]\n",
    "\n",
    "thickness_winter_means = compute_gridcell_winter_means(IS2SITMOGR4_v3.ice_thickness_int, years=years)\n",
    "staticArcticMaps(thickness_winter_means, dates=thickness_winter_means.time.values,title=\"\", set_cbarlabel = \"Sea ice thickness (m)\", col_wrap=3, cmap=\"viridis\", vmin=0, vmax=5, out_str='thickness_winter_2018_2023')"
   ]
  },
  {
   "cell_type": "code",
   "execution_count": null,
   "id": "83026be8-2fad-4308-b04f-a3a194417f74",
   "metadata": {},
   "outputs": [],
   "source": [
    "# Define the map extent around Kivalina, AK (longitude and latitude bounds)\n",
    "kivalina_extent = [-165.5, -163.5, 67.2, 68.2]\n",
    "\n",
    "# Use the staticArcticMaps function to create the plot with the specified Kivalina extent\n",
    "fig = staticArcticMaps(thickness_winter_means, \n",
    "                       title=\"Zoomed-in view of Kivalina\", \n",
    "                       dates=thickness_winter_means.time.values, \n",
    "                       out_str='thickness_winter_2018_2023', \n",
    "                       cmap=\"viridis\", \n",
    "                       vmin=0, \n",
    "                       vmax=5, \n",
    "                       col_wrap=3, \n",
    "                       set_cbarlabel=\"Sea ice thickness (m)\", \n",
    "                       savefig=True, \n",
    "                       zoom_extent=kivalina_extent)\n",
    "\n",
    "# Display the figure if you are in a Jupyter notebook environment; otherwise, it saves the figure to a file.\n",
    "# If using a Jupyter notebook, uncomment the line below:\n",
    "plt.show(fig)\n"
   ]
  },
  {
   "cell_type": "code",
   "execution_count": null,
   "id": "54329b60-d6b3-43bb-b100-516fbc8b4e75",
   "metadata": {},
   "outputs": [],
   "source": [
    "# Read in the raw monthly gridded winter Arctic sea ice data from S3\n",
    "IS2SITMOGR4_all = read_IS2SITMOGR4() \n",
    "IS2SITMOGR4_all"
   ]
  },
  {
   "cell_type": "markdown",
   "id": "d4d12e9a-e95b-4139-963c-e7beaaf7fa04",
   "metadata": {},
   "source": [
    "### Defining a Region of Interest around Kivalina, AK"
   ]
  },
  {
   "cell_type": "code",
   "execution_count": null,
   "id": "0f0e83db-498f-46c5-ab19-ab4acfb03a9c",
   "metadata": {},
   "outputs": [],
   "source": [
    "# Print out the variables and coordinates in the dataset\n",
    "print(IS2SITMOGR4_all)\n",
    "\n",
    "# Check if the data contains entries for the year 2023\n",
    "print(\"Data variables available:\", IS2SITMOGR4_all.data_vars)\n",
    "print(\"Coordinates available:\", IS2SITMOGR4_all.coords)\n",
    "\n",
    "# Specifically check for the 'ice_thickness_int' variable and the time period of interest\n",
    "if 'ice_thickness_int' in IS2SITMOGR4_all.data_vars:\n",
    "    print(\"Ice thickness variable found.\")\n",
    "    if 2023 in IS2SITMOGR4_all['time'].dt.year:\n",
    "        print(\"Data for the year 2023 is available.\")\n",
    "    else:\n",
    "        print(\"Data for the year 2023 is not available.\")\n",
    "else:\n",
    "    print(\"Ice thickness variable not found. Available variables:\", IS2SITMOGR4_all.data_vars)\n"
   ]
  },
  {
   "cell_type": "code",
   "execution_count": null,
   "id": "9a735d03-e3db-441d-b7a7-6ef62044835d",
   "metadata": {},
   "outputs": [],
   "source": [
    "import utils.plotting_utils as utils\n",
    "thickness_winter_means = utils.compute_gridcell_winter_means(IS2SITMOGR4_v3.ice_thickness_int, years=years)\n"
   ]
  },
  {
   "cell_type": "code",
   "execution_count": null,
   "id": "2b679273-9244-4fe5-8763-c3f5a58c7b74",
   "metadata": {},
   "outputs": [],
   "source": [
    "# #checks \n",
    "# # Inside staticArcticMaps function, where the plotting occurs:\n",
    "# for ax in ax_iter:\n",
    "#     # Other plotting code...\n",
    "#     if custom_extent:  # Make sure this condition checks if all custom_extent values are not None\n",
    "#         ax.set_extent(custom_extent, crs=ccrs.PlateCarree())\n",
    "#     # Other plotting code...\n"
   ]
  },
  {
   "cell_type": "code",
   "execution_count": null,
   "id": "4c5d5882-e5d5-412f-a96e-8ef52056f3c4",
   "metadata": {},
   "outputs": [],
   "source": []
  },
  {
   "cell_type": "code",
   "execution_count": null,
   "id": "a3e654ab-12ed-478b-a37d-61541f2e3447",
   "metadata": {},
   "outputs": [],
   "source": [
    "def add_scale_bar(ax, scale_len, location=(0.5, 0.05), linewidth=3):\n",
    "    \"\"\"\n",
    "    Add a scale bar to the given axes.\n",
    "    \n",
    "    Args:\n",
    "    ax: Matplotlib axis object to draw the scale bar on.\n",
    "    scale_len: Length of the scale bar in miles.\n",
    "    location: Tuple of (x, y) to place the scale bar on the axes. Values are relative to the axes size.\n",
    "    linewidth: Thickness of the scale bar line.\n",
    "    \"\"\"\n",
    "    # Transform length in miles to degrees latitude (roughly)\n",
    "    length_degrees = scale_len / 69.0  # approximate conversion from miles to degrees latitude\n",
    "    \n",
    "    # Determine scale bar coordinates in axes coordinates\n",
    "    x, y = location\n",
    "    bar_xs = [x - length_degrees / 2, x + length_degrees / 2]\n",
    "    bar_ys = [y, y]\n",
    "    \n",
    "    # Transform axes coordinates to data coordinates\n",
    "    inverse = ccrs.PlateCarree()._as_mpl_transform(ax).inverted()\n",
    "    bar_x_data, bar_y_data = inverse.transform(np.vstack((bar_xs, bar_ys)).T)\n",
    "    \n",
    "    # Draw the scale bar\n",
    "    ax.plot(bar_x_data, bar_y_data, transform=ccrs.PlateCarree(), color='black', linewidth=linewidth)\n",
    "    \n",
    "    # Label the scale bar\n",
    "    ax.text(x, y - 0.1, f'{scale_len} miles', transform=ccrs.PlateCarree(), horizontalalignment='center', verticalalignment='bottom')\n"
   ]
  },
  {
   "cell_type": "markdown",
   "id": "4323059f-9ced-44a1-86b1-3d621a18d125",
   "metadata": {},
   "source": [
    "### check to see if there's any data for 11-2022"
   ]
  },
  {
   "cell_type": "code",
   "execution_count": null,
   "id": "ae030792-9afc-4a50-b252-5b2ef0dc32cb",
   "metadata": {},
   "outputs": [],
   "source": [
    "# Check if there is data for November 2022\n",
    "nov_2022_data = IS2SITMOGR4_all.sel(time='2022-11').ice_thickness_int\n",
    "\n",
    "# Print the summary of the data for November 2022\n",
    "print(nov_2022_data)\n",
    "\n",
    "# If the data exists, check for any masking or missing values\n",
    "print(\"Number of non-NaN values:\", np.count_nonzero(~np.isnan(nov_2022_data)))\n",
    "\n",
    "# Check the range of values for this month\n",
    "print(\"Data range for November 2022:\", np.nanmin(nov_2022_data.values), \"to\", np.nanmax(nov_2022_data.values))\n",
    "\n",
    "# Adjust the colormap range to include the minimum and maximum data values\n",
    "vmin = 0.0\n",
    "vmax = 7.0\n",
    "\n",
    "# Plot the data for November 2022\n",
    "nov_2022_data.plot(\n",
    "    vmin=vmin, vmax=vmax, cmap='viridis',\n",
    "    subplot_kws={'projection': ccrs.NorthPolarStereo(central_longitude=-155)}, \n",
    "    transform=ccrs.PlateCarree()\n",
    ")\n",
    "plt.show()\n",
    "\n"
   ]
  },
  {
   "cell_type": "code",
   "execution_count": null,
   "id": "a2a57876-b528-4e2c-83dd-6d9b38438bff",
   "metadata": {},
   "outputs": [],
   "source": []
  },
  {
   "cell_type": "code",
   "execution_count": null,
   "id": "c748f892-7c68-41dd-9962-9b6ff9ca66a8",
   "metadata": {},
   "outputs": [],
   "source": []
  },
  {
   "cell_type": "code",
   "execution_count": null,
   "id": "7ed114d0-cee0-4d96-8721-bf08a0e792fe",
   "metadata": {},
   "outputs": [],
   "source": []
  }
 ],
 "metadata": {
  "kernelspec": {
   "display_name": "Python (is2book_p39_env)",
   "language": "python",
   "name": "is2book_p39_env"
  },
  "language_info": {
   "codemirror_mode": {
    "name": "ipython",
    "version": 3
   },
   "file_extension": ".py",
   "mimetype": "text/x-python",
   "name": "python",
   "nbconvert_exporter": "python",
   "pygments_lexer": "ipython3",
   "version": "3.11.5"
  }
 },
 "nbformat": 4,
 "nbformat_minor": 5
}
