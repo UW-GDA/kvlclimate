{
 "cells": [
  {
   "cell_type": "markdown",
   "id": "94aeb00c",
   "metadata": {},
   "source": [
    "# Atmospheric variables\n",
    "The ERA5 reanalysis dataset provides information about the atmosphere that can help contextualize sea ice conditions. Here, we'll plot 2 meter temperature and downwelling longwave radiation from ERA5 to get a sense for the atmospheric conditions during each winter season. "
   ]
  },
  {
   "cell_type": "code",
   "execution_count": null,
   "id": "19e47ac4",
   "metadata": {},
   "outputs": [],
   "source": [
    "import xarray as xr # For working with gridded climate data \n",
    "from utils.read_data_utils import read_book_data # Helper function for reading the data from the bucket\n",
    "from utils.plotting_utils import static_winter_comparison_lineplot, staticArcticMaps, interactiveArcticMaps, compute_gridcell_winter_means # Plotting utils \n",
    "\n",
    "# Plotting dependencies\n",
    "%config InlineBackend.figure_format = 'retina'\n",
    "import matplotlib as mpl\n",
    "mpl.rcParams['figure.dpi'] = 150 # Sets figure size in the notebook\n",
    "\n",
    "# Remove warnings to improve display\n",
    "import warnings \n",
    "warnings.filterwarnings('ignore') "
   ]
  },
  {
   "cell_type": "markdown",
   "id": "3175cc31",
   "metadata": {},
   "source": [
    "# Read in the data "
   ]
  },
  {
   "cell_type": "code",
   "execution_count": null,
   "id": "17c2482a",
   "metadata": {},
   "outputs": [],
   "source": [
    "book_ds = read_book_data() # Read/download the data \n",
    "book_ds = book_ds.where(book_ds.region_mask.isin([1,2,3,4,5,6])) # Restrict to the inner arctic \n",
    "years = [2018,2019,2020] # Years over which to perform analysis\n",
    "region_str='Inner Arctic'"
   ]
  },
  {
   "cell_type": "markdown",
   "id": "cb790b9c",
   "metadata": {},
   "source": [
    "# Map monthly data \n",
    "Here, we'll use the `interactiveArcticMaps` function to display the data. You can change the variable to display by changing `data_var` in the code cell below if you run the notebook in Binder."
   ]
  },
  {
   "cell_type": "code",
   "execution_count": null,
   "id": "5ab1b4f9",
   "metadata": {},
   "outputs": [],
   "source": [
    "data_var = \"t2m\"\n",
    "interactiveArcticMaps(book_ds[data_var], cmap=\"coolwarm\", frame_width=500)"
   ]
  },
  {
   "cell_type": "markdown",
   "id": "098895d4",
   "metadata": {},
   "source": [
    "# Map and plot the winter means\n",
    "Below, we'll compute gridcell means for each month for each variable. Then, we'll plot the means on a map of the Arctic, and display them next to each other for easy visual comparison. "
   ]
  },
  {
   "cell_type": "code",
   "execution_count": null,
   "id": "bc386cab",
   "metadata": {},
   "outputs": [],
   "source": [
    "# Maps of the means \n",
    "t2m_winter_means = compute_gridcell_winter_means(book_ds.t2m, years=years)\n",
    "pl = staticArcticMaps(t2m_winter_means, title=\"Winter mean 2 meter tempertaure\", cmap=\"coolwarm\", vmin=-40, vmax=-15)\n",
    "display(pl)\n",
    "\n",
    "# Mean monthly lineplot\n",
    "static_winter_comparison_lineplot(book_ds.t2m, years=years,  figsize=(5,3), region_str=region_str, legend=True)"
   ]
  },
  {
   "cell_type": "code",
   "execution_count": null,
   "id": "b3194a16",
   "metadata": {},
   "outputs": [],
   "source": [
    "# Maps of the means \n",
    "msdwlwrf_winter_means = compute_gridcell_winter_means(book_ds.msdwlwrf, years=years)\n",
    "pl = staticArcticMaps(msdwlwrf_winter_means, cmap=\"pink_r\", vmin=160, vmax=240)\n",
    "display(pl)\n",
    "\n",
    "# Mean monthly lineplot\n",
    "static_winter_comparison_lineplot(book_ds.msdwlwrf, years=years, figsize=(5,3), set_ylabel=r'Downward longwave radiative flux (W/m$^2$)', region_str=region_str, legend=True)"
   ]
  }
 ],
 "metadata": {
  "kernelspec": {
   "display_name": "Python 3 (ipykernel)",
   "language": "python",
   "name": "python3"
  },
  "language_info": {
   "codemirror_mode": {
    "name": "ipython",
    "version": 3
   },
   "file_extension": ".py",
   "mimetype": "text/x-python",
   "name": "python",
   "nbconvert_exporter": "python",
   "pygments_lexer": "ipython3",
   "version": "3.8.12"
  }
 },
 "nbformat": 4,
 "nbformat_minor": 5
}
